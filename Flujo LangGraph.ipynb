{
 "cells": [
  {
   "cell_type": "code",
   "execution_count": null,
   "metadata": {},
   "outputs": [],
   "source": [
    "from langchain_openai import AzureChatOpenAI\n",
    "from langchain.tools import tool\n",
    "from langchain_core.messages import HumanMessage\n",
    "from langgraph.prebuilt import create_react_agent\n",
    "from langgraph.graph import StateGraph, START, END, Graph \n",
    "from models.database import *\n",
    "from models.models import *\n",
    "import langgraph\n",
    "import os\n",
    "from dotenv import load_dotenv"
   ]
  },
  {
   "cell_type": "code",
   "execution_count": null,
   "metadata": {},
   "outputs": [],
   "source": [
    "load_dotenv()\n",
    "MODELO = os.getenv(\"MODELO\")\n",
    "KEY = os.getenv(\"KEY\")\n",
    "VERSION = os.getenv(\"VERSION\")\n",
    "ENDPOINT = os.getenv(\"ENDPOINT\")"
   ]
  },
  {
   "cell_type": "code",
   "execution_count": 6,
   "metadata": {},
   "outputs": [],
   "source": [
    "llm = AzureChatOpenAI(\n",
    "    api_key = KEY,\n",
    "    api_version = VERSION,\n",
    "    azure_endpoint = ENDPOINT,\n",
    "    azure_deployment = MODELO\n",
    "    )"
   ]
  },
  {
   "cell_type": "code",
   "execution_count": null,
   "metadata": {},
   "outputs": [],
   "source": [
    "import openai\n",
    "openai_client = openai.AzureOpenAI(\n",
    "    api_key = KEY,\n",
    "    api_version = VERSION,\n",
    "    azure_endpoint = ENDPOINT\n",
    "    )"
   ]
  },
  {
   "cell_type": "code",
   "execution_count": null,
   "metadata": {},
   "outputs": [],
   "source": [
    "messages=[{\"role\": \"system\", \"content\": \"Eres un asistente útil.\"},\n",
    "        {\"role\": \"user\", \"content\": \"¿Cuál es la capital de España?\"}]\n",
    "\n",
    "response = openai_client.chat.completions.create(\n",
    "    model = MODELO,\n",
    "    messages = messages,\n",
    "    max_tokens=100\n",
    "    )\n",
    "response.choices[0].message.content"
   ]
  },
  {
   "cell_type": "markdown",
   "metadata": {},
   "source": [
    "    (\"pendiente_condicionada\", \"flujo\"),\n",
    "    (\"pendiente_no_condicionada\", \"flujo\"),\n",
    "    (\"grabar_cesta_srm\", \"flujo\"),\n",
    "    (\"solicitar_firma_inf_prov_cond\", \"flujo\"),\n",
    "    (\"firma_inf_prov_cond\", \"flujo\"),\n",
    "    (\"lanzar_cesta_srm\", \"flujo\"),\n",
    "    (\"aprobar_compra_manager\", \"aprobacion\"),\n",
    "    (\"aprobar_compra_gestion\", \"aprobacion\"),\n",
    "    (\"revision_compra\", \"flujo\"),\n",
    "    (\"solicitar_oferta_provedoores\", \"flujo\"),\n",
    "    (\"proveedor_envia_ofertn\", \"flujo\"),\n",
    "    (\"consulta_acep_oferta\", \"flujo\"),\n",
    "    (\"negociacion_proveedores\", \"flujo\"),\n",
    "    (\"proponer_proveedor\", \"flujo\"),\n",
    "    (\"aprobar_adjuducacion\", \"aprobacion\"),\n",
    "    (\"facturar\", \"flujo\"),\n",
    "    (\"fin\", \"flujo\"),"
   ]
  },
  {
   "cell_type": "code",
   "execution_count": 7,
   "metadata": {},
   "outputs": [
    {
     "name": "stdout",
     "output_type": "stream",
     "text": [
      "2025-03-15 19:22:03,362 INFO sqlalchemy.engine.Engine BEGIN (implicit)\n",
      "2025-03-15 19:22:03,366 INFO sqlalchemy.engine.Engine INSERT INTO proveedores (nombre, contacto, email, estado, fecha_registro) VALUES (?, ?, ?, ?, ?)\n",
      "2025-03-15 19:22:03,367 INFO sqlalchemy.engine.Engine [generated in 0.00110s] ('Apple', 'Soporte Apple', 'apple@proveedor.com', 'aprobado', '2025-03-15 18:22:03.366162')\n",
      "2025-03-15 19:22:03,370 INFO sqlalchemy.engine.Engine COMMIT\n",
      "2025-03-15 19:22:03,379 INFO sqlalchemy.engine.Engine BEGIN (implicit)\n",
      "2025-03-15 19:22:03,382 INFO sqlalchemy.engine.Engine SELECT proveedores.id_proveedor AS proveedores_id_proveedor, proveedores.nombre AS proveedores_nombre, proveedores.contacto AS proveedores_contacto, proveedores.email AS proveedores_email, proveedores.estado AS proveedores_estado, proveedores.fecha_registro AS proveedores_fecha_registro \n",
      "FROM proveedores \n",
      "WHERE proveedores.id_proveedor = ?\n",
      "2025-03-15 19:22:03,384 INFO sqlalchemy.engine.Engine [generated in 0.00116s] (1,)\n",
      "✅ Proveedor de prueba añadido: Apple (ID: 1)\n",
      "2025-03-15 19:22:03,386 INFO sqlalchemy.engine.Engine ROLLBACK\n"
     ]
    }
   ],
   "source": [
    "# Agrego un proveedor de prueba\n",
    "from sqlalchemy.orm import Session\n",
    "from models.database import engine\n",
    "from models.models import Proveedor\n",
    "\n",
    "def agregar_proveedor_prueba():\n",
    "    \"\"\"\n",
    "    Agrega un proveedor de prueba a la base de datos.\n",
    "    \"\"\"\n",
    "    session = Session(bind=engine)\n",
    "\n",
    "    # Crear un proveedor de prueba\n",
    "    nuevo_proveedor = Proveedor(\n",
    "        nombre=\"Apple\",\n",
    "        contacto=\"Soporte Apple\",\n",
    "        email=\"apple@proveedor.com\",\n",
    "        estado=\"aprobado\"\n",
    "    )\n",
    "    session.add(nuevo_proveedor)\n",
    "    session.commit()\n",
    "\n",
    "    print(f\"✅ Proveedor de prueba añadido: {nuevo_proveedor.nombre} (ID: {nuevo_proveedor.id_proveedor})\")\n",
    "    session.close()\n",
    "\n",
    "# Ejecutar la función para agregar el proveedor\n",
    "agregar_proveedor_prueba()\n"
   ]
  },
  {
   "cell_type": "code",
   "execution_count": 18,
   "metadata": {},
   "outputs": [],
   "source": [
    "def obtener_datos_pedido(entrada_usuario):\n",
    "    ''' Nodo que usa IA para obtener los datos del pedido del usuario '''\n",
    "    # Se crea la sesión de SQLAlchemy\t\n",
    "    session = Session(bind=engine)\n",
    "\n",
    "    prompt = f''' \n",
    "    Eres el encargado de obtener la información de un pedido.\n",
    "    Se necesita conocer:\n",
    "    - Nombre del proveedor\n",
    "    - Moneda en la que se realizó la compra\n",
    "    - Presupuesto estimado\n",
    "\n",
    "    {entrada_usuario}\n",
    "\n",
    "    Devuevle los datos en un formato claro como:\n",
    "    \"Proveedor: Proveedor X, Moneda: EUR, Presupuesto: 5000\"\n",
    "    '''\n",
    "    response = llm.invoke(prompt)\n",
    "    datos_ia = response.content.strip()\n",
    "\n",
    "    print(f'IA: {datos_ia}')\n",
    "\n",
    "    # Extraer los datos del texto\n",
    "    datos_extraidos = {}\n",
    "    for item in datos_ia.split(','):\n",
    "        key, value = item.strip().split(':')\n",
    "        datos_extraidos[key.lower().strip()] = value.strip()\n",
    "    \n",
    "    nombre_proveedor = datos_extraidos.get('proveedor')\n",
    "    codigo_moneda = datos_extraidos.get('moneda')\n",
    "    presupuesto = float(datos_extraidos.get('presupuesto', 1000)) # Por defecto 1000\n",
    "\n",
    "    print(f\"📦 Datos extraídos: Proveedor: {nombre_proveedor}, Moneda: {codigo_moneda}, Presupuesto: {presupuesto}\")\n",
    "    \n",
    "    # Verificar que la moneda existe en la BD\n",
    "    moneda = session.query(Moneda).filter(Moneda.codigo == codigo_moneda).first()\n",
    "    if not moneda:\n",
    "        print(f\"⚠️ Moneda '{codigo_moneda}' no encontrada. Se usará EUR por defecto.\")\n",
    "        moneda = session.query(Moneda).filter_by(codigo=\"EUR\").first()\n",
    "\n",
    "    # Verificar si el proveedor ya existe en la BD\n",
    "    proveedor = session.query(Proveedor).filter_by(nombre=nombre_proveedor).first()\n",
    "\n",
    "    if proveedor:\n",
    "        print(f\"✅ Proveedor '{proveedor.nombre}' encontrado en la base de datos.\")\n",
    "        es_nuevo = False\n",
    "    else:\n",
    "        print(f\"⚠️ Proveedor '{nombre_proveedor}' no encontrado. Requiere validación.\")\n",
    "        es_nuevo = True\n",
    "    session.close()\n",
    "\n",
    "    return {\n",
    "        \"id_proveedor\": proveedor.id_proveedor if proveedor else None,\n",
    "        \"nombre_proveedor\": nombre_proveedor,\n",
    "        \"id_usuario\": 1,\n",
    "        \"nombre_cesta\": \"Cesta generada automáticamente\",\n",
    "        \"tipo_compra\": \"ordinaria\",\n",
    "        \"presupuesto\": presupuesto,\n",
    "        \"id_moneda\": moneda.id_moneda,\n",
    "        \"descripcion_pedido\": \"Pedido generado automáticamente\",\n",
    "        \"pedido_tipoimp\": \"K\",\n",
    "        \"es_nuevo\": es_nuevo  # 🔹 Indica si el proveedor debe validarse antes de continuar\n",
    "    }\n"
   ]
  },
  {
   "cell_type": "code",
   "execution_count": 19,
   "metadata": {},
   "outputs": [
    {
     "name": "stdout",
     "output_type": "stream",
     "text": [
      "IA: Proveedor: Dell, Moneda: USD, Presupuesto: 7000\n",
      "📦 Datos extraídos: Proveedor: Dell, Moneda: USD, Presupuesto: 7000.0\n",
      "2025-03-15 19:34:46,239 INFO sqlalchemy.engine.Engine BEGIN (implicit)\n",
      "2025-03-15 19:34:46,241 INFO sqlalchemy.engine.Engine SELECT monedas.id_moneda AS monedas_id_moneda, monedas.codigo AS monedas_codigo, monedas.nombre AS monedas_nombre \n",
      "FROM monedas \n",
      "WHERE monedas.codigo = ?\n",
      " LIMIT ? OFFSET ?\n",
      "2025-03-15 19:34:46,241 INFO sqlalchemy.engine.Engine [generated in 0.00073s] ('USD', 1, 0)\n",
      "2025-03-15 19:34:46,244 INFO sqlalchemy.engine.Engine SELECT proveedores.id_proveedor AS proveedores_id_proveedor, proveedores.nombre AS proveedores_nombre, proveedores.contacto AS proveedores_contacto, proveedores.email AS proveedores_email, proveedores.estado AS proveedores_estado, proveedores.fecha_registro AS proveedores_fecha_registro \n",
      "FROM proveedores \n",
      "WHERE proveedores.nombre = ?\n",
      " LIMIT ? OFFSET ?\n",
      "2025-03-15 19:34:46,245 INFO sqlalchemy.engine.Engine [generated in 0.00129s] ('Dell', 1, 0)\n",
      "⚠️ Proveedor 'Dell' no encontrado. Requiere validación.\n",
      "2025-03-15 19:34:46,247 INFO sqlalchemy.engine.Engine ROLLBACK\n",
      "\n",
      "🔹 RESULTADO DE LA FUNCIÓN 🔹\n",
      "id_proveedor: None\n",
      "nombre_proveedor: Dell\n",
      "id_usuario: 1\n",
      "nombre_cesta: Cesta generada automáticamente\n",
      "tipo_compra: ordinaria\n",
      "presupuesto: 7000.0\n",
      "id_moneda: 3\n",
      "descripcion_pedido: Pedido generado automáticamente\n",
      "pedido_tipoimp: K\n",
      "es_nuevo: True\n",
      "\n",
      "⚠️ El proveedor es nuevo y requiere validación.\n"
     ]
    }
   ],
   "source": [
    "consulta_usuario = \"\"\"\n",
    "Necesito comprar 15 monitores y 10 teclados mecánicos para la oficina. \n",
    "El presupuesto estimado es de 7000 dólares. \n",
    "Quiero hacer la compra a Dell, pero si no es posible, podemos buscar otro proveedor.\n",
    "\"\"\"\n",
    "\n",
    "# Probar obtener_datos_pedido con una consulta de usuario\n",
    "resultado = obtener_datos_pedido(consulta_usuario)\n",
    "\n",
    "# Mostrar los resultados obtenidos\n",
    "print(\"\\n🔹 RESULTADO DE LA FUNCIÓN 🔹\")\n",
    "for clave, valor in resultado.items():\n",
    "    print(f\"{clave}: {valor}\")\n",
    "\n",
    "# Verificar si el proveedor fue detectado correctamente\n",
    "if resultado[\"es_nuevo\"]:\n",
    "    print(\"\\n⚠️ El proveedor es nuevo y requiere validación.\")\n",
    "else:\n",
    "    print(\"\\n✅ El proveedor ya existe en la base de datos y se usará directamente.\")\n"
   ]
  },
  {
   "cell_type": "code",
   "execution_count": null,
   "metadata": {},
   "outputs": [],
   "source": [
    "def grabar_cesta_srm():\n",
    "    tools = []\n",
    "    agent_pedido = create_react_agent(llm, tools)\n"
   ]
  },
  {
   "cell_type": "code",
   "execution_count": null,
   "metadata": {},
   "outputs": [],
   "source": [
    "def aprobacion_proveedor():\n",
    "    tools = []\n",
    "    agent_pedido = create_react_agent(llm, tools)"
   ]
  },
  {
   "cell_type": "code",
   "execution_count": null,
   "metadata": {},
   "outputs": [],
   "source": [
    "# Codigo para generar el flujo\n",
    "\n",
    "graph_builder = StateGraph(dict)\n",
    "graph_builder = Graph()\n",
    "\n",
    "# Nodos al grafo\n",
    "\n",
    "graph_builder.add_node(\"obtener_datos_del_pedido\", obtener_datos_pedido)\n",
    "graph_builder.add_node(\"grabar_cesta_srm\", grabar_cesta_srm)\n",
    "graph_builder.add_node(\"aprobacion_proveedor\", aprobacion_proveedor)"
   ]
  },
  {
   "cell_type": "code",
   "execution_count": null,
   "metadata": {},
   "outputs": [],
   "source": [
    "# 📌 Conectar nodos condicionalmente\n",
    "def decidir_siguiente_nodo(datos):\n",
    "    if datos[\"es_nuevo\"]:\n",
    "        return \"aprobacion_proveedor\"\n",
    "    return \"crear_pedido\""
   ]
  },
  {
   "cell_type": "code",
   "execution_count": null,
   "metadata": {},
   "outputs": [],
   "source": [
    "graph.add_conditional_edges(\"obtener_datos_pedido\", decidir_siguiente_nodo)\n",
    "graph.add_edge(\"aprobacion_proveedor\", \"crear_pedido\")  # Si se aprueba, se crea el pedido\n"
   ]
  }
 ],
 "metadata": {
  "kernelspec": {
   "display_name": "venv",
   "language": "python",
   "name": "python3"
  },
  "language_info": {
   "codemirror_mode": {
    "name": "ipython",
    "version": 3
   },
   "file_extension": ".py",
   "mimetype": "text/x-python",
   "name": "python",
   "nbconvert_exporter": "python",
   "pygments_lexer": "ipython3",
   "version": "3.11.9"
  }
 },
 "nbformat": 4,
 "nbformat_minor": 2
}
