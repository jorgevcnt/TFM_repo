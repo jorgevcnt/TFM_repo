{
 "cells": [
  {
   "cell_type": "code",
   "execution_count": 2,
   "metadata": {},
   "outputs": [
    {
     "name": "stdout",
     "output_type": "stream",
     "text": [
      "2025-03-17 18:27:42,233 INFO sqlalchemy.engine.Engine BEGIN (implicit)\n",
      "2025-03-17 18:27:42,235 INFO sqlalchemy.engine.Engine PRAGMA main.table_info(\"pedidos\")\n",
      "2025-03-17 18:27:42,236 INFO sqlalchemy.engine.Engine [raw sql] ()\n",
      "2025-03-17 18:27:42,238 INFO sqlalchemy.engine.Engine PRAGMA main.table_info(\"historial_pedidos\")\n",
      "2025-03-17 18:27:42,238 INFO sqlalchemy.engine.Engine [raw sql] ()\n",
      "2025-03-17 18:27:42,239 INFO sqlalchemy.engine.Engine PRAGMA main.table_info(\"transiciones\")\n",
      "2025-03-17 18:27:42,241 INFO sqlalchemy.engine.Engine [raw sql] ()\n",
      "2025-03-17 18:27:42,242 INFO sqlalchemy.engine.Engine PRAGMA main.table_info(\"proveedores\")\n",
      "2025-03-17 18:27:42,243 INFO sqlalchemy.engine.Engine [raw sql] ()\n",
      "2025-03-17 18:27:42,244 INFO sqlalchemy.engine.Engine PRAGMA main.table_info(\"ofertas\")\n",
      "2025-03-17 18:27:42,245 INFO sqlalchemy.engine.Engine [raw sql] ()\n",
      "2025-03-17 18:27:42,246 INFO sqlalchemy.engine.Engine PRAGMA main.table_info(\"facturas\")\n",
      "2025-03-17 18:27:42,247 INFO sqlalchemy.engine.Engine [raw sql] ()\n",
      "2025-03-17 18:27:42,249 INFO sqlalchemy.engine.Engine PRAGMA main.table_info(\"usuarios\")\n",
      "2025-03-17 18:27:42,250 INFO sqlalchemy.engine.Engine [raw sql] ()\n",
      "2025-03-17 18:27:42,252 INFO sqlalchemy.engine.Engine PRAGMA main.table_info(\"estados\")\n",
      "2025-03-17 18:27:42,253 INFO sqlalchemy.engine.Engine [raw sql] ()\n",
      "2025-03-17 18:27:42,254 INFO sqlalchemy.engine.Engine PRAGMA main.table_info(\"contratos\")\n",
      "2025-03-17 18:27:42,255 INFO sqlalchemy.engine.Engine [raw sql] ()\n",
      "2025-03-17 18:27:42,256 INFO sqlalchemy.engine.Engine PRAGMA main.table_info(\"cestas_generales\")\n",
      "2025-03-17 18:27:42,257 INFO sqlalchemy.engine.Engine [raw sql] ()\n",
      "2025-03-17 18:27:42,258 INFO sqlalchemy.engine.Engine PRAGMA temp.table_info(\"cestas_generales\")\n",
      "2025-03-17 18:27:42,259 INFO sqlalchemy.engine.Engine [raw sql] ()\n",
      "2025-03-17 18:27:42,261 INFO sqlalchemy.engine.Engine PRAGMA main.table_info(\"cestas\")\n",
      "2025-03-17 18:27:42,262 INFO sqlalchemy.engine.Engine [raw sql] ()\n",
      "2025-03-17 18:27:42,263 INFO sqlalchemy.engine.Engine PRAGMA main.table_info(\"monedas\")\n",
      "2025-03-17 18:27:42,264 INFO sqlalchemy.engine.Engine [raw sql] ()\n",
      "2025-03-17 18:27:42,266 INFO sqlalchemy.engine.Engine \n",
      "CREATE TABLE cestas_generales (\n",
      "\tid_cesta_general INTEGER NOT NULL, \n",
      "\tnombre VARCHAR NOT NULL, \n",
      "\tdescripcion VARCHAR, \n",
      "\tfecha_creacion DATETIME, \n",
      "\tmoneda_id INTEGER, \n",
      "\tproveedor_id INTEGER, \n",
      "\tPRIMARY KEY (id_cesta_general), \n",
      "\tFOREIGN KEY(moneda_id) REFERENCES monedas (id_moneda), \n",
      "\tFOREIGN KEY(proveedor_id) REFERENCES proveedores (id_proveedor)\n",
      ")\n",
      "\n",
      "\n",
      "2025-03-17 18:27:42,267 INFO sqlalchemy.engine.Engine [no key 0.00123s] ()\n",
      "2025-03-17 18:27:42,281 INFO sqlalchemy.engine.Engine COMMIT\n"
     ]
    }
   ],
   "source": [
    "from sqlalchemy import create_engine, Column, String, DateTime, ForeignKey\n",
    "from sqlalchemy.orm import declarative_base, sessionmaker, relationship\n",
    "import datetime\n",
    "from init_database import Transicion, HistorialPedido, Pedido\n",
    "import os\n",
    "from dotenv import load_dotenv"
   ]
  },
  {
   "cell_type": "code",
   "execution_count": null,
   "metadata": {},
   "outputs": [],
   "source": [
    "from sqlalchemy import MetaData\n",
    "from sqlalchemy_schemadisplay import create_schema_graph\n",
    "from models.database import engine  # Asegúrate de importar el motor de tu BD\n",
    "\n",
    "# Obtener metadatos de la base de datos\n",
    "metadata = MetaData()\n",
    "metadata.reflect(bind=engine)\n",
    "\n",
    "# Crear el esquema de la base de datos\n",
    "graph = create_schema_graph(\n",
    "    metadata=metadata,\n",
    "    show_datatypes=True,  # Muestra los tipos de datos\n",
    "    show_indexes=True,  # Muestra los índices\n",
    "    rankdir=\"LR\",  # Orientación del gráfico (LR = Left to Right)\n",
    "    concentrate=False  # No combina flechas en una sola línea\n",
    ")\n",
    "\n",
    "# Guardar como imagen\n",
    "graph.write_png(\"database_schema.png\")\n",
    "print(\"✅ Esquema generado como 'database_schema.png'\")\n"
   ]
  },
  {
   "cell_type": "code",
   "execution_count": 3,
   "metadata": {},
   "outputs": [],
   "source": [
    "load_dotenv()\n",
    "MODELO = os.getenv(\"MODELO\")\n",
    "KEY = os.getenv(\"KEY\")\n",
    "VERSION = os.getenv(\"VERSION\")\n",
    "ENDPOINT = os.getenv(\"ENDPOINT\")"
   ]
  },
  {
   "cell_type": "code",
   "execution_count": null,
   "metadata": {},
   "outputs": [],
   "source": []
  },
  {
   "cell_type": "code",
   "execution_count": 4,
   "metadata": {},
   "outputs": [],
   "source": [
    "import openai\n",
    "openai_client = openai.AzureOpenAI(\n",
    "    api_key = KEY,\n",
    "    api_version = VERSION,\n",
    "    azure_endpoint = ENDPOINT\n",
    "    )"
   ]
  },
  {
   "cell_type": "code",
   "execution_count": 5,
   "metadata": {},
   "outputs": [
    {
     "data": {
      "text/plain": [
       "'\"Perro\" en inglés se dice \"dog\".'"
      ]
     },
     "execution_count": 5,
     "metadata": {},
     "output_type": "execute_result"
    }
   ],
   "source": [
    "messages=[{\"role\": \"system\", \"content\": \"Eres un asistente útil.\"},\n",
    "        {\"role\": \"user\", \"content\": \"Como se dice perro en inglés?\"},]\n",
    "\n",
    "response = openai_client.chat.completions.create(\n",
    "    model = MODELO,\n",
    "    messages = messages,\n",
    "    max_tokens=100\n",
    "    )\n",
    "response.choices[0].message.content"
   ]
  },
  {
   "cell_type": "code",
   "execution_count": 35,
   "metadata": {},
   "outputs": [
    {
     "name": "stdout",
     "output_type": "stream",
     "text": [
      "Collecting secure-smtplib\n",
      "  Downloading secure_smtplib-0.1.1-py2.py3-none-any.whl.metadata (511 bytes)\n",
      "Downloading secure_smtplib-0.1.1-py2.py3-none-any.whl (3.4 kB)\n",
      "Installing collected packages: secure-smtplib\n",
      "Successfully installed secure-smtplib-0.1.1\n"
     ]
    },
    {
     "name": "stderr",
     "output_type": "stream",
     "text": [
      "\n",
      "[notice] A new release of pip is available: 24.0 -> 25.0.1\n",
      "[notice] To update, run: python.exe -m pip install --upgrade pip\n"
     ]
    }
   ],
   "source": [
    " !pip install secure-smtplib"
   ]
  },
  {
   "cell_type": "code",
   "execution_count": 36,
   "metadata": {},
   "outputs": [
    {
     "name": "stdout",
     "output_type": "stream",
     "text": [
      "✅ Correo enviado correctamente a jorgevicentejuan@gmail.com\n"
     ]
    }
   ],
   "source": [
    "import smtplib\n",
    "from email.mime.text import MIMEText\n",
    "from email.mime.multipart import MIMEMultipart\n",
    "\n",
    "def enviar_correo(destinatario, asunto, mensaje, remitente=\"blueprismautomail@gmail.com\", clave=\"ocdd kthe cqeu qina\"):\n",
    "    \"\"\"\n",
    "    Envía un correo electrónico utilizando SMTP con Gmail.\n",
    "    \n",
    "    Parámetros:\n",
    "    - destinatario: Email del destinatario.\n",
    "    - asunto: Asunto del correo.\n",
    "    - mensaje: Cuerpo del mensaje.\n",
    "    - remitente: (Opcional) Tu dirección de correo de Gmail.\n",
    "    - clave: (Opcional) Contraseña o App Password de tu cuenta de Gmail.\n",
    "    \"\"\"\n",
    "    try:\n",
    "        # Configuración del servidor SMTP de Gmail\n",
    "        servidor_smtp = \"smtp.gmail.com\"\n",
    "        puerto_smtp = 587\n",
    "\n",
    "        # Crear el mensaje\n",
    "        msg = MIMEMultipart()\n",
    "        msg[\"From\"] = remitente\n",
    "        msg[\"To\"] = destinatario\n",
    "        msg[\"Subject\"] = asunto\n",
    "        msg.attach(MIMEText(mensaje, \"plain\"))\n",
    "\n",
    "        # Conectar al servidor SMTP\n",
    "        servidor = smtplib.SMTP(servidor_smtp, puerto_smtp)\n",
    "        servidor.starttls()  # Seguridad con TLS\n",
    "        servidor.login(remitente, clave)  # Autenticación\n",
    "\n",
    "        # Enviar el correo\n",
    "        servidor.sendmail(remitente, destinatario, msg.as_string())\n",
    "        servidor.quit()\n",
    "\n",
    "        print(f\"✅ Correo enviado correctamente a {destinatario}\")\n",
    "    except Exception as e:\n",
    "        print(f\"❌ Error al enviar el correo: {e}\")\n",
    "\n",
    "# Ejemplo de uso\n",
    "enviar_correo(\n",
    "    destinatario=\"jorgevicentejuan@gmail.com\",\n",
    "    asunto=\"Prueba de correo\",\n",
    "    mensaje=\"Hola, esto es un correo de prueba enviado desde Python.\"\n",
    ")\n"
   ]
  }
 ],
 "metadata": {
  "kernelspec": {
   "display_name": "venv",
   "language": "python",
   "name": "python3"
  },
  "language_info": {
   "codemirror_mode": {
    "name": "ipython",
    "version": 3
   },
   "file_extension": ".py",
   "mimetype": "text/x-python",
   "name": "python",
   "nbconvert_exporter": "python",
   "pygments_lexer": "ipython3",
   "version": "3.11.9"
  }
 },
 "nbformat": 4,
 "nbformat_minor": 2
}
