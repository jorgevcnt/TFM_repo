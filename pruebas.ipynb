{
 "cells": [
  {
   "cell_type": "code",
   "execution_count": 2,
   "metadata": {},
   "outputs": [
    {
     "name": "stdout",
     "output_type": "stream",
     "text": [
      "2025-03-17 18:27:42,233 INFO sqlalchemy.engine.Engine BEGIN (implicit)\n",
      "2025-03-17 18:27:42,235 INFO sqlalchemy.engine.Engine PRAGMA main.table_info(\"pedidos\")\n",
      "2025-03-17 18:27:42,236 INFO sqlalchemy.engine.Engine [raw sql] ()\n",
      "2025-03-17 18:27:42,238 INFO sqlalchemy.engine.Engine PRAGMA main.table_info(\"historial_pedidos\")\n",
      "2025-03-17 18:27:42,238 INFO sqlalchemy.engine.Engine [raw sql] ()\n",
      "2025-03-17 18:27:42,239 INFO sqlalchemy.engine.Engine PRAGMA main.table_info(\"transiciones\")\n",
      "2025-03-17 18:27:42,241 INFO sqlalchemy.engine.Engine [raw sql] ()\n",
      "2025-03-17 18:27:42,242 INFO sqlalchemy.engine.Engine PRAGMA main.table_info(\"proveedores\")\n",
      "2025-03-17 18:27:42,243 INFO sqlalchemy.engine.Engine [raw sql] ()\n",
      "2025-03-17 18:27:42,244 INFO sqlalchemy.engine.Engine PRAGMA main.table_info(\"ofertas\")\n",
      "2025-03-17 18:27:42,245 INFO sqlalchemy.engine.Engine [raw sql] ()\n",
      "2025-03-17 18:27:42,246 INFO sqlalchemy.engine.Engine PRAGMA main.table_info(\"facturas\")\n",
      "2025-03-17 18:27:42,247 INFO sqlalchemy.engine.Engine [raw sql] ()\n",
      "2025-03-17 18:27:42,249 INFO sqlalchemy.engine.Engine PRAGMA main.table_info(\"usuarios\")\n",
      "2025-03-17 18:27:42,250 INFO sqlalchemy.engine.Engine [raw sql] ()\n",
      "2025-03-17 18:27:42,252 INFO sqlalchemy.engine.Engine PRAGMA main.table_info(\"estados\")\n",
      "2025-03-17 18:27:42,253 INFO sqlalchemy.engine.Engine [raw sql] ()\n",
      "2025-03-17 18:27:42,254 INFO sqlalchemy.engine.Engine PRAGMA main.table_info(\"contratos\")\n",
      "2025-03-17 18:27:42,255 INFO sqlalchemy.engine.Engine [raw sql] ()\n",
      "2025-03-17 18:27:42,256 INFO sqlalchemy.engine.Engine PRAGMA main.table_info(\"cestas_generales\")\n",
      "2025-03-17 18:27:42,257 INFO sqlalchemy.engine.Engine [raw sql] ()\n",
      "2025-03-17 18:27:42,258 INFO sqlalchemy.engine.Engine PRAGMA temp.table_info(\"cestas_generales\")\n",
      "2025-03-17 18:27:42,259 INFO sqlalchemy.engine.Engine [raw sql] ()\n",
      "2025-03-17 18:27:42,261 INFO sqlalchemy.engine.Engine PRAGMA main.table_info(\"cestas\")\n",
      "2025-03-17 18:27:42,262 INFO sqlalchemy.engine.Engine [raw sql] ()\n",
      "2025-03-17 18:27:42,263 INFO sqlalchemy.engine.Engine PRAGMA main.table_info(\"monedas\")\n",
      "2025-03-17 18:27:42,264 INFO sqlalchemy.engine.Engine [raw sql] ()\n",
      "2025-03-17 18:27:42,266 INFO sqlalchemy.engine.Engine \n",
      "CREATE TABLE cestas_generales (\n",
      "\tid_cesta_general INTEGER NOT NULL, \n",
      "\tnombre VARCHAR NOT NULL, \n",
      "\tdescripcion VARCHAR, \n",
      "\tfecha_creacion DATETIME, \n",
      "\tmoneda_id INTEGER, \n",
      "\tproveedor_id INTEGER, \n",
      "\tPRIMARY KEY (id_cesta_general), \n",
      "\tFOREIGN KEY(moneda_id) REFERENCES monedas (id_moneda), \n",
      "\tFOREIGN KEY(proveedor_id) REFERENCES proveedores (id_proveedor)\n",
      ")\n",
      "\n",
      "\n",
      "2025-03-17 18:27:42,267 INFO sqlalchemy.engine.Engine [no key 0.00123s] ()\n",
      "2025-03-17 18:27:42,281 INFO sqlalchemy.engine.Engine COMMIT\n"
     ]
    }
   ],
   "source": [
    "from sqlalchemy import create_engine, Column, String, DateTime, ForeignKey\n",
    "from sqlalchemy.orm import declarative_base, sessionmaker, relationship\n",
    "import datetime\n",
    "from init_database import Transicion, HistorialPedido, Pedido\n",
    "import os\n",
    "from dotenv import load_dotenv"
   ]
  },
  {
   "cell_type": "code",
   "execution_count": null,
   "metadata": {},
   "outputs": [],
   "source": [
    "from sqlalchemy import MetaData\n",
    "from sqlalchemy_schemadisplay import create_schema_graph\n",
    "from models.database import engine  # Asegúrate de importar el motor de tu BD\n",
    "\n",
    "# Obtener metadatos de la base de datos\n",
    "metadata = MetaData()\n",
    "metadata.reflect(bind=engine)\n",
    "\n",
    "# Crear el esquema de la base de datos\n",
    "graph = create_schema_graph(\n",
    "    metadata=metadata,\n",
    "    show_datatypes=True,  # Muestra los tipos de datos\n",
    "    show_indexes=True,  # Muestra los índices\n",
    "    rankdir=\"LR\",  # Orientación del gráfico (LR = Left to Right)\n",
    "    concentrate=False  # No combina flechas en una sola línea\n",
    ")\n",
    "\n",
    "# Guardar como imagen\n",
    "graph.write_png(\"database_schema.png\")\n",
    "print(\"✅ Esquema generado como 'database_schema.png'\")\n"
   ]
  },
  {
   "cell_type": "code",
   "execution_count": 3,
   "metadata": {},
   "outputs": [],
   "source": [
    "load_dotenv()\n",
    "MODELO = os.getenv(\"MODELO\")\n",
    "KEY = os.getenv(\"KEY\")\n",
    "VERSION = os.getenv(\"VERSION\")\n",
    "ENDPOINT = os.getenv(\"ENDPOINT\")"
   ]
  },
  {
   "cell_type": "code",
   "execution_count": null,
   "metadata": {},
   "outputs": [],
   "source": []
  },
  {
   "cell_type": "code",
   "execution_count": 4,
   "metadata": {},
   "outputs": [],
   "source": [
    "import openai\n",
    "openai_client = openai.AzureOpenAI(\n",
    "    api_key = KEY,\n",
    "    api_version = VERSION,\n",
    "    azure_endpoint = ENDPOINT\n",
    "    )"
   ]
  },
  {
   "cell_type": "code",
   "execution_count": 5,
   "metadata": {},
   "outputs": [
    {
     "data": {
      "text/plain": [
       "'\"Perro\" en inglés se dice \"dog\".'"
      ]
     },
     "execution_count": 5,
     "metadata": {},
     "output_type": "execute_result"
    }
   ],
   "source": [
    "messages=[{\"role\": \"system\", \"content\": \"Eres un asistente útil.\"},\n",
    "        {\"role\": \"user\", \"content\": \"Como se dice perro en inglés?\"},]\n",
    "\n",
    "response = openai_client.chat.completions.create(\n",
    "    model = MODELO,\n",
    "    messages = messages,\n",
    "    max_tokens=100\n",
    "    )\n",
    "response.choices[0].message.content"
   ]
  },
  {
   "cell_type": "code",
   "execution_count": 35,
   "metadata": {},
   "outputs": [
    {
     "name": "stdout",
     "output_type": "stream",
     "text": [
      "Collecting secure-smtplib\n",
      "  Downloading secure_smtplib-0.1.1-py2.py3-none-any.whl.metadata (511 bytes)\n",
      "Downloading secure_smtplib-0.1.1-py2.py3-none-any.whl (3.4 kB)\n",
      "Installing collected packages: secure-smtplib\n",
      "Successfully installed secure-smtplib-0.1.1\n"
     ]
    },
    {
     "name": "stderr",
     "output_type": "stream",
     "text": [
      "\n",
      "[notice] A new release of pip is available: 24.0 -> 25.0.1\n",
      "[notice] To update, run: python.exe -m pip install --upgrade pip\n"
     ]
    }
   ],
   "source": [
    " !pip install secure-smtplib"
   ]
  },
  {
   "cell_type": "code",
   "execution_count": 36,
   "metadata": {},
   "outputs": [
    {
     "name": "stdout",
     "output_type": "stream",
     "text": [
      "✅ Correo enviado correctamente a jorgevicentejuan@gmail.com\n"
     ]
    }
   ],
   "source": [
    "import smtplib\n",
    "from email.mime.text import MIMEText\n",
    "from email.mime.multipart import MIMEMultipart\n",
    "\n",
    "def enviar_correo(destinatario, asunto, mensaje, remitente=\"blueprismautomail@gmail.com\", clave=\"ocdd kthe cqeu qina\"):\n",
    "    \"\"\"\n",
    "    Envía un correo electrónico utilizando SMTP con Gmail.\n",
    "    \n",
    "    Parámetros:\n",
    "    - destinatario: Email del destinatario.\n",
    "    - asunto: Asunto del correo.\n",
    "    - mensaje: Cuerpo del mensaje.\n",
    "    - remitente: (Opcional) Tu dirección de correo de Gmail.\n",
    "    - clave: (Opcional) Contraseña o App Password de tu cuenta de Gmail.\n",
    "    \"\"\"\n",
    "    try:\n",
    "        # Configuración del servidor SMTP de Gmail\n",
    "        servidor_smtp = \"smtp.gmail.com\"\n",
    "        puerto_smtp = 587\n",
    "\n",
    "        # Crear el mensaje\n",
    "        msg = MIMEMultipart()\n",
    "        msg[\"From\"] = remitente\n",
    "        msg[\"To\"] = destinatario\n",
    "        msg[\"Subject\"] = asunto\n",
    "        msg.attach(MIMEText(mensaje, \"plain\"))\n",
    "\n",
    "        # Conectar al servidor SMTP\n",
    "        servidor = smtplib.SMTP(servidor_smtp, puerto_smtp)\n",
    "        servidor.starttls()  # Seguridad con TLS\n",
    "        servidor.login(remitente, clave)  # Autenticación\n",
    "\n",
    "        # Enviar el correo\n",
    "        servidor.sendmail(remitente, destinatario, msg.as_string())\n",
    "        servidor.quit()\n",
    "\n",
    "        print(f\"✅ Correo enviado correctamente a {destinatario}\")\n",
    "    except Exception as e:\n",
    "        print(f\"❌ Error al enviar el correo: {e}\")\n",
    "\n",
    "# Ejemplo de uso\n",
    "enviar_correo(\n",
    "    destinatario=\"jorgevicentejuan@gmail.com\",\n",
    "    asunto=\"Prueba de correo\",\n",
    "    mensaje=\"Hola, esto es un correo de prueba enviado desde Python.\"\n",
    ")\n"
   ]
  },
  {
   "cell_type": "code",
   "execution_count": 1,
   "metadata": {},
   "outputs": [],
   "source": [
    "from langchain_openai import AzureChatOpenAI\n",
    "from langchain_core.messages import HumanMessage\n",
    "from langgraph.prebuilt import create_react_agent\n",
    "from langgraph.graph import StateGraph, START, END, Graph \n",
    "from models.database import *\n",
    "from models.models import *\n",
    "import os\n",
    "from sqlalchemy.orm import Session\n",
    "import json\n",
    "from grafo.tools import *\n",
    "from datetime import datetime\n",
    "import time\n",
    "#from dotenv import load_dotenv"
   ]
  },
  {
   "cell_type": "code",
   "execution_count": 11,
   "metadata": {},
   "outputs": [],
   "source": [
    "def solicitud_compra(mensaje_usuario):\n",
    "    prompt=f\"\"\"\n",
    "    Eres un asistente que debe de clasificar el siguiente mensaje del usuario\n",
    "    representa una solicitus de compra.\n",
    "\n",
    "    Mensaje: {mensaje_usuario}.\n",
    "\n",
    "    Responde únicamente con True si es una solicitud de compra o None si no lo es.\n",
    "    No añadas ninguna otra palabra ni explicación\n",
    "    \"\"\"\n",
    "    print(\"Se hace el invoke\")\n",
    "    respuesta = llm.invoke([HumanMessage(content = prompt)]).content.strip()\n",
    "    print(respuesta)\n",
    "    return respuesta\n"
   ]
  },
  {
   "cell_type": "code",
   "execution_count": null,
   "metadata": {},
   "outputs": [
    {
     "name": "stdout",
     "output_type": "stream",
     "text": [
      "Se hace el invoke\n",
      "True\n",
      "True\n"
     ]
    }
   ],
   "source": [
    "print(solicitud_compra(\"Quiero comprar 500 portatiles del proveedor intel, tengo un presupuesto de 60000euros\"))"
   ]
  },
  {
   "cell_type": "code",
   "execution_count": 21,
   "metadata": {},
   "outputs": [],
   "source": [
    "#INSERTAR DATOS DEL PROVEEDOR Y EL INVOKE DEL GRAFO\n",
    "\n",
    "def invokar_agent(entrada):\n",
    "    agente_proveedor = create_react_agent(llm ,tools=[])\n",
    "    prompt = f''' \n",
    "    Eres el encargado de obtener la información de un proveedor.\n",
    "    Se necesita conocer:\n",
    "    - Nombre del proveedor \n",
    "    - Mail del proveedor\n",
    "    - Contacto del proveedor\n",
    "    Aqui tienes la información que tienes que obtener:\n",
    "    {entrada}\n",
    "    Devuelve unicamente un formato JSON como:\n",
    "        \"nombre\": \"...\",\n",
    "        \"email\": \"...\",\n",
    "        \"contacto\": \"...\"\n",
    "    '\n",
    "    Una vez generado el json,simula que utilizas la herramienta insertar_proveedores para insertar el proveedor en la base de datos \n",
    "    y devuelve como resultado final el json que genera la tool.\n",
    "    '''\n",
    "    session = Session(bind=engine)\n",
    "    response = agente_proveedor.invoke({'messages': [HumanMessage(content = prompt)]})\n",
    "    contenido = response['messages'][-1].content\n",
    "    print(f\" el llm devuelve {contenido}\")\n",
    "    try: \n",
    "        print(\"ya se ha hehco el insert del nuevo proveedor, ahora falta meterle el proveedor para meterlo por el invoke si es nuevo o no\")\n",
    "\n",
    "        datos = json.loads(contenido)\n",
    "        print(datos)\n",
    "        nombre_proveedor = datos['nombre'].strip().lower()\n",
    "        print(f\"nombre provedor es {nombre_proveedor}\")\n",
    "\n",
    "        # 🔁 Volver a buscar el proveedor recién insertado\n",
    "        proveedor = session.query(Proveedor).filter_by(nombre=nombre_proveedor.lower()).first()\n",
    "        proveedor_id = proveedor.id_proveedor if proveedor else None\n",
    "        print(f\"✅ Proveedor '{proveedor_id}' encontrado en la base de datos.\")\n",
    "        session.close()\n",
    "        # Resetear estado\n",
    "\n",
    "        # Obtener mensaje original\n",
    "        mensaje_lang = entrada\n",
    "        print(mensaje_lang)\n",
    "        ## INOKE DEL GRAFO\n",
    "        pass\n",
    "    except Exception as e:\n",
    "        print(e)\n",
    "                    "
   ]
  },
  {
   "cell_type": "code",
   "execution_count": 22,
   "metadata": {},
   "outputs": [
    {
     "name": "stdout",
     "output_type": "stream",
     "text": [
      " el llm devuelve {\n",
      "    \"nombre\": \"Intel\",\n",
      "    \"email\": \"info@intel.com\",\n",
      "    \"contacto\": \"John Smith\"\n",
      "}\n",
      "ya se ha hehco el insert del nuevo proveedor, ahora falta meterle el proveedor para meterlo por el invoke si es nuevo o no\n",
      "{'nombre': 'Intel', 'email': 'info@intel.com', 'contacto': 'John Smith'}\n",
      "nombre provedor es intel\n",
      "✅ Proveedor '1' encontrado en la base de datos.\n",
      "Quiero comprar 500 portatiles del proveedor intel, tengo un presupuesto de 60000euros\n"
     ]
    }
   ],
   "source": [
    "invokar_agent(\"Quiero comprar 500 portatiles del proveedor intel, tengo un presupuesto de 60000euros\")"
   ]
  },
  {
   "cell_type": "code",
   "execution_count": null,
   "metadata": {},
   "outputs": [],
   "source": [
    "## NODO 1\n",
    "\n",
    "def obtener_datos_pedido(entrada_usuario):\n",
    "    ''' Nodo que usa IA para obtener los datos del pedido del usuario, crea la cesta y el pedido con el estado inicial,\n",
    "      y decide si el flujo valida el proveedor o graba la cesta.\n",
    "    '''\n",
    "    # Se crea la sesión de SQLAlchemy\t\n",
    "    session = Session(bind=engine)\n",
    "\n",
    "    prompt = f''' \n",
    "    Eres el encargado de obtener la información de un pedido.\n",
    "    Se necesita conocer:\n",
    "    - Nombre del proveedor (si no se menciona, deja \"desconocido\")\n",
    "    - Moneda en la que se realizó la compra utiliza el codigo de 3 letras\n",
    "    - Presupuesto estimado\n",
    "    - Producto a comprar\n",
    "    - Si el proveedor es nuevo\n",
    "    {entrada_usuario}\n",
    "\n",
    "    Devuelve los datos en un formato claro como:\n",
    "    \"Proveedor: Proveedor X, Moneda: EUR, Presupuesto: 5000, Producto: [Producto Y], Cantidad: 10, Nuevo: True\"\n",
    "    '''\n",
    "    response = llm.invoke(prompt)\n",
    "    datos_ia = response.content.strip()\n",
    "\n",
    "    print(f'IA: {datos_ia}')\n",
    "\n",
    "    # Extraer los datos del texto\n",
    "    datos_extraidos = {}\n",
    "    for item in datos_ia.split(','):\n",
    "        key, value = item.strip().split(':')\n",
    "        datos_extraidos[key.lower().strip()] = value.strip()\n",
    "    \n",
    "    nombre_proveedor = datos_extraidos.get('proveedor', 'desconocido').strip().lower()\n",
    "    codigo_moneda = datos_extraidos.get('moneda', 'EUR').strip().upper() \n",
    "    presupuesto = float(datos_extraidos.get('presupuesto', 1000)) # Por defecto 1000\n",
    "    producto = datos_extraidos.get('producto', 'no especificado')\n",
    "    cantidad = int(datos_extraidos.get('cantidad', 1)) # Por defecto 1\n",
    "    es_nuevo_str = datos_extraidos.get('nuevo', 'false').strip().lower()\n",
    "    es_nuevo = es_nuevo_str == \"true\"\n",
    "    print(f\"📦 Datos extraídos: Proveedor: {nombre_proveedor}, Moneda: {codigo_moneda}, Presupuesto: {presupuesto}\")\n",
    "    \n",
    "    # Se implementa el estado inicial en funcion de si es nuevo o no el proveedor\n",
    "    if es_nuevo:\n",
    "        estado_inicial_nombre = \"pendiente_condicionada\"\n",
    "    else:\n",
    "        estado_inicial_nombre = \"pendiente_no_condicionada\"\n",
    "\n",
    "    proveedor = session.query(Proveedor).filter_by(nombre=nombre_proveedor.lower()).first()\n",
    "    proveedor_id = proveedor.id_proveedor if proveedor else None\n",
    "    print(f\"✅ Proveedor '{proveedor_id}' encontrado en la base de datos.\")\n",
    "\n",
    "    # Obtener estado inicial correspondiente\n",
    "    estado_inicial = session.query(Estado).filter_by(nombre=estado_inicial_nombre).first()\n",
    "    if not estado_inicial:\n",
    "        print(f\"⚠️ Estado '{estado_inicial_nombre}' no encontrado en la base de datos.\")\n",
    "        return {\"error\": \"Estado inicial no encontrado\"}\n",
    "\n",
    "    # Verificar que la moneda existe en la BD\n",
    "    moneda = session.query(Moneda).filter(Moneda.codigo == codigo_moneda).first()\n",
    "    moneda_id = moneda.id_moneda if moneda else None\n",
    "\n",
    "    if not moneda:\n",
    "        print(f\"⚠️ Moneda '{codigo_moneda}' no encontrada. Se usará EUR por defecto.\")\n",
    "        moneda = session.query(Moneda).filter_by(codigo=\"EUR\").first()\n",
    "        moneda_id = moneda.id_moneda\n",
    "\n",
    "    # Crear la cesta y el pedido\n",
    "    nueva_cesta = Cesta(\n",
    "        nombre=\"Cesta generada automáticamente\",\n",
    "        descripcion=\"Pedido generado automáticamente\",\n",
    "        tipo_compra=\"ordinaria\",\n",
    "        presupuesto=presupuesto,\n",
    "        usuario_sap_id=1,\n",
    "        proveedor_id=proveedor_id,\n",
    "        moneda_id=moneda_id,\n",
    "        contrato_id=None\n",
    "    )\n",
    "    session.add(nueva_cesta)\n",
    "    session.commit()\n",
    "\n",
    "    print(f\"✅ Cesta creada con ID: {nueva_cesta.id_cesta}\")\n",
    "\n",
    "    nuevo_pedido = Pedido(\n",
    "        posicion=1,\n",
    "        tipo=\"Ordinario\",\n",
    "        pedido_tipoimp=\"K\",\n",
    "        descripcion=f\"Compra de {datos_extraidos.get('producto', 'productos no especificados')}\",\n",
    "        id_proveedor=proveedor_id,\n",
    "        cesta_id=nueva_cesta.id_cesta, \n",
    "        estado_tramitacion_id=estado_inicial.id_estado,\n",
    "        creador_id=1,\n",
    "        moneda_id=moneda_id\n",
    "    )\n",
    "    session.add(nuevo_pedido)\n",
    "    session.commit()\n",
    "\n",
    "    # Se extraen las variables antes de cerrar la sesion \n",
    "\n",
    "    pedido_id = nuevo_pedido.id_pedido\n",
    "    cesta_id = nueva_cesta.id_cesta\n",
    "    session.close()\n",
    "\n",
    "    return {\n",
    "\n",
    "        \"id_pedido\": pedido_id,\n",
    "        \"id_proveedor\": proveedor_id, # Ya no intenta acceder a un objeto desvinculado\n",
    "        \"nombre_proveedor\": nombre_proveedor,\n",
    "        \"id_cesta\": cesta_id,\n",
    "        \"id_moneda\": moneda_id,  # Ya no intenta acceder a un objeto desvinculado\n",
    "        \"estado_actual\": estado_inicial_nombre,\n",
    "        \"id_usuario\": 1,\n",
    "        \"nombre_cesta\": \"Cesta generada automáticamente\",\n",
    "        \"tipo_compra\": \"ordinaria\",\n",
    "        \"presupuesto\": presupuesto,\n",
    "        \"descripcion\": producto,\n",
    "        \"pedido_tipoimp\": \"K\",\n",
    "        \"cantidad\": cantidad,\n",
    "        \"es_nuevo\": es_nuevo  # Indica si el proveedor debe validarse antes de continuar\n",
    "    }"
   ]
  }
 ],
 "metadata": {
  "kernelspec": {
   "display_name": "venv",
   "language": "python",
   "name": "python3"
  },
  "language_info": {
   "codemirror_mode": {
    "name": "ipython",
    "version": 3
   },
   "file_extension": ".py",
   "mimetype": "text/x-python",
   "name": "python",
   "nbconvert_exporter": "python",
   "pygments_lexer": "ipython3",
   "version": "3.13.2"
  }
 },
 "nbformat": 4,
 "nbformat_minor": 2
}
